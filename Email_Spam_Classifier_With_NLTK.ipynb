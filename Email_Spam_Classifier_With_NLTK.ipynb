{
 "cells": [
  {
   "cell_type": "markdown",
   "metadata": {
    "id": "YPgYoUY4HOMZ"
   },
   "source": [
    "# Email CLassification Project using NLTK\n",
    "This notebook was created by Hamas ur Rehman, Machine Learning and AI course student from Skill4U NIC Peshawar\n",
    "\n"
   ]
  },
  {
   "cell_type": "markdown",
   "metadata": {
    "id": "y9yKvfx3Hh0p"
   },
   "source": [
    "## Details about the DataSet\n",
    "\n",
    "This dataset was taken from Kaggle\n",
    "[https://www.kaggle.com/datasets/nitishabharathi/email-spam-dataset](https://www.kaggle.com/datasets/nitishabharathi/email-spam-dataset)\n",
    "\n",
    "This dataset contains 3 csv files each file contains 2 columns.\n",
    "\n",
    "- The first column is the body of the email\n",
    "- The second column contains our labels \n",
    "  - 0 for **Not Spam**\n",
    "  - 1 for **Spam**\n",
    "\n",
    "### Total values of the dataset\n",
    "The combined values of all 3 files is  `18650`"
   ]
  },
  {
   "cell_type": "code",
   "execution_count": 64,
   "metadata": {
    "colab": {
     "base_uri": "https://localhost:8080/"
    },
    "id": "4V_VXFeBHQl8",
    "outputId": "ea0beb27-2aed-41b0-cd0c-be40d33cd2da"
   },
   "outputs": [
    {
     "name": "stderr",
     "output_type": "stream",
     "text": [
      "[nltk_data] Downloading package punkt to\n",
      "[nltk_data]     C:\\Users\\hamas\\AppData\\Roaming\\nltk_data...\n",
      "[nltk_data]   Package punkt is already up-to-date!\n",
      "[nltk_data] Downloading package wordnet to\n",
      "[nltk_data]     C:\\Users\\hamas\\AppData\\Roaming\\nltk_data...\n",
      "[nltk_data]   Package wordnet is already up-to-date!\n",
      "[nltk_data] Downloading package omw-1.4 to\n",
      "[nltk_data]     C:\\Users\\hamas\\AppData\\Roaming\\nltk_data...\n",
      "[nltk_data]   Package omw-1.4 is already up-to-date!\n",
      "[nltk_data] Downloading package stopwords to\n",
      "[nltk_data]     C:\\Users\\hamas\\AppData\\Roaming\\nltk_data...\n",
      "[nltk_data]   Package stopwords is already up-to-date!\n"
     ]
    }
   ],
   "source": [
    "# importing necessary files\n",
    "import numpy as np \n",
    "import pandas as pd \n",
    "import seaborn as sns\n",
    "import matplotlib.pyplot as plt\n",
    "\n",
    "from sklearn.model_selection import train_test_split\n",
    "from sklearn.feature_extraction.text import CountVectorizer\n",
    "\n",
    "import re\n",
    "import nltk\n",
    "nltk.download('punkt')\n",
    "nltk.download('wordnet')\n",
    "nltk.download('omw-1.4')\n",
    "nltk.download('stopwords')\n",
    "\n",
    "# importing all of our models \n",
    "from sklearn.naive_bayes import MultinomialNB\n",
    "from sklearn.ensemble import RandomForestClassifier\n",
    "from sklearn.svm import SVC\n",
    "from sklearn.naive_bayes import GaussianNB\n",
    "from sklearn.linear_model import LogisticRegression\n",
    "from sklearn.neighbors import KNeighborsClassifier\n",
    "from sklearn.discriminant_analysis import LinearDiscriminantAnalysis\n",
    "from sklearn.tree import DecisionTreeClassifier\n",
    "\n",
    "\n",
    "\n"
   ]
  },
  {
   "cell_type": "code",
   "execution_count": 33,
   "metadata": {
    "id": "U3Vmi49kIOAS"
   },
   "outputs": [],
   "source": [
    "data1 = pd.read_csv('dataset/completeSpamAssassin.csv')\n",
    "data2 = pd.read_csv('dataset/enronSpamSubset.csv')\n",
    "data3 = pd.read_csv('dataset/lingSpam.csv')"
   ]
  },
  {
   "cell_type": "code",
   "execution_count": 35,
   "metadata": {},
   "outputs": [],
   "source": [
    "data1.drop('Unnamed: 0',inplace=True,axis=1)\n",
    "data2.drop(['Unnamed: 0','Unnamed: 0.1'],inplace=True,axis=1)\n",
    "data3.drop('Unnamed: 0',inplace=True,axis=1)"
   ]
  },
  {
   "cell_type": "code",
   "execution_count": 37,
   "metadata": {},
   "outputs": [],
   "source": [
    "#Shuffle data3\n",
    "data3 = data3.sample(frac = 1)\n",
    "# resetting the index \n",
    "data3.reset_index(drop=True, inplace=True)"
   ]
  },
  {
   "cell_type": "code",
   "execution_count": 39,
   "metadata": {},
   "outputs": [],
   "source": [
    "testing_data = data3.loc[1500:]\n",
    "data3 = data3.drop(np.array(range(1500,2604)),axis = 0)"
   ]
  },
  {
   "cell_type": "code",
   "execution_count": 40,
   "metadata": {},
   "outputs": [
    {
     "data": {
      "image/png": "[encoded data removed]",
      "text/plain": [
       "<Figure size 300x300 with 1 Axes>"
      ]
     },
     "metadata": {},
     "output_type": "display_data"
    },
    {
     "data": {
      "text/plain": [
       "0    1266\n",
       "1     235\n",
       "Name: Label, dtype: int64"
      ]
     },
     "execution_count": 40,
     "metadata": {},
     "output_type": "execute_result"
    }
   ],
   "source": [
    "fig = plt.figure(figsize =(3,3))\n",
    "data3.Label.value_counts().plot(kind=\"bar\", color=[\"salmon\", \"lightblue\"])\n",
    "plt.tick_params(labelsize=14)\n",
    "plt.show()\n",
    "data3.Label.value_counts()"
   ]
  },
  {
   "cell_type": "markdown",
   "metadata": {},
   "source": [
    "We will consider the 3rd csv file as our testing data"
   ]
  },
  {
   "cell_type": "markdown",
   "metadata": {},
   "source": [
    "## BALANCING DATA"
   ]
  },
  {
   "cell_type": "markdown",
   "metadata": {},
   "source": [
    "As the data shown in the graph below tells us that the data is not balanced we will first try to fix this issue"
   ]
  },
  {
   "cell_type": "markdown",
   "metadata": {},
   "source": [
    "#### BEFORE BALANCED DATA"
   ]
  },
  {
   "cell_type": "code",
   "execution_count": 41,
   "metadata": {},
   "outputs": [
    {
     "data": {
      "image/png": "[encoded data removed]",
      "text/plain": [
       "<Figure size 300x300 with 1 Axes>"
      ]
     },
     "metadata": {},
     "output_type": "display_data"
    },
    {
     "data": {
      "text/plain": [
       "0    4150\n",
       "1    1896\n",
       "Name: Label, dtype: int64"
      ]
     },
     "execution_count": 41,
     "metadata": {},
     "output_type": "execute_result"
    }
   ],
   "source": [
    "fig = plt.figure(figsize =(3,3))\n",
    "data1.Label.value_counts().plot(kind=\"bar\", color=[\"salmon\", \"lightblue\"])\n",
    "plt.tick_params(labelsize=14)\n",
    "plt.show()\n",
    "data1.Label.value_counts()"
   ]
  },
  {
   "cell_type": "code",
   "execution_count": 42,
   "metadata": {},
   "outputs": [],
   "source": [
    "temp_data = data1.drop(data1[data1.Label == 1].index)\n",
    "data1.drop(data1[data1.Label == 0].index , inplace = True)\n",
    "temp_data = temp_data.sample(frac = 1)\n",
    "temp_data.reset_index(drop=True, inplace=True)\n",
    "temp_data = temp_data.drop(np.array(range(0, 2254)),axis = 0)\n",
    "data1 = pd.concat([data1,temp_data], axis=0)\n"
   ]
  },
  {
   "cell_type": "markdown",
   "metadata": {},
   "source": [
    "#### AFTER BALANCED DATA"
   ]
  },
  {
   "cell_type": "code",
   "execution_count": 43,
   "metadata": {},
   "outputs": [
    {
     "data": {
      "image/png": "[encoded data removed]",
      "text/plain": [
       "<Figure size 300x300 with 1 Axes>"
      ]
     },
     "metadata": {},
     "output_type": "display_data"
    },
    {
     "data": {
      "text/plain": [
       "1    1896\n",
       "0    1896\n",
       "Name: Label, dtype: int64"
      ]
     },
     "execution_count": 43,
     "metadata": {},
     "output_type": "execute_result"
    }
   ],
   "source": [
    "fig = plt.figure(figsize =(3,3))\n",
    "data1.Label.value_counts().plot(kind=\"bar\", color=[\"salmon\", \"lightblue\"])\n",
    "plt.tick_params(labelsize=14)\n",
    "plt.show()\n",
    "data1.Label.value_counts()"
   ]
  },
  {
   "cell_type": "markdown",
   "metadata": {
    "id": "RZVKponzI8Wi"
   },
   "source": [
    "## Combining our datasets into one\n",
    "We are combinning them so it is easy for us to clean and work with our data"
   ]
  },
  {
   "cell_type": "code",
   "execution_count": 44,
   "metadata": {
    "colab": {
     "base_uri": "https://localhost:8080/",
     "height": 206
    },
    "id": "_SOc3GKhJPzl",
    "outputId": "2d41ee07-1553-42ee-e3b3-da5f128c8023"
   },
   "outputs": [],
   "source": [
    "df = pd.concat([data1, data2,data3], axis=0)\n",
    "df.sort_index(inplace=True)"
   ]
  },
  {
   "cell_type": "markdown",
   "metadata": {},
   "source": [
    "## Shuffling our data"
   ]
  },
  {
   "cell_type": "code",
   "execution_count": 45,
   "metadata": {},
   "outputs": [],
   "source": [
    "df = df.sample(frac = 1)\n",
    "# resetting the index \n",
    "df.reset_index(drop=True, inplace=True)"
   ]
  },
  {
   "cell_type": "markdown",
   "metadata": {},
   "source": [
    "## Total spam vs ham Ratio"
   ]
  },
  {
   "cell_type": "code",
   "execution_count": 46,
   "metadata": {},
   "outputs": [
    {
     "data": {
      "image/png": "[encoded data removed]",
      "text/plain": [
       "<Figure size 300x300 with 1 Axes>"
      ]
     },
     "metadata": {},
     "output_type": "display_data"
    },
    {
     "data": {
      "text/plain": [
       "0    8162\n",
       "1    7131\n",
       "Name: Label, dtype: int64"
      ]
     },
     "execution_count": 46,
     "metadata": {},
     "output_type": "execute_result"
    }
   ],
   "source": [
    "plt.figure(figsize=(3,3))\n",
    "df.Label.value_counts().plot(kind=\"bar\", color=[\"salmon\", \"lightblue\"])\n",
    "plt.tick_params(labelsize=14)\n",
    "plt.show()\n",
    "df.Label.value_counts()"
   ]
  },
  {
   "cell_type": "code",
   "execution_count": 47,
   "metadata": {
    "colab": {
     "base_uri": "https://localhost:8080/"
    },
    "id": "ZdUFim-5Js8N",
    "outputId": "b82b4bf8-6194-4d2d-c461-0a69bba4fe41"
   },
   "outputs": [
    {
     "name": "stdout",
     "output_type": "stream",
     "text": [
      "<class 'pandas.core.frame.DataFrame'>\n",
      "RangeIndex: 15293 entries, 0 to 15292\n",
      "Data columns (total 2 columns):\n",
      " #   Column  Non-Null Count  Dtype \n",
      "---  ------  --------------  ----- \n",
      " 0   Body    15292 non-null  object\n",
      " 1   Label   15293 non-null  int64 \n",
      "dtypes: int64(1), object(1)\n",
      "memory usage: 239.1+ KB\n"
     ]
    }
   ],
   "source": [
    "df.info()"
   ]
  },
  {
   "cell_type": "code",
   "execution_count": 48,
   "metadata": {
    "colab": {
     "base_uri": "https://localhost:8080/"
    },
    "id": "I_t8JX4MJyaP",
    "outputId": "cc869021-fae5-49b2-bdba-b760ce28601d"
   },
   "outputs": [
    {
     "data": {
      "text/plain": [
       "Body     1\n",
       "Label    0\n",
       "dtype: int64"
      ]
     },
     "execution_count": 48,
     "metadata": {},
     "output_type": "execute_result"
    }
   ],
   "source": [
    "df.isnull().sum()"
   ]
  },
  {
   "cell_type": "markdown",
   "metadata": {
    "id": "2ejzYiA_J084"
   },
   "source": [
    "so we see that there is only one missing value in the body we can remove it"
   ]
  },
  {
   "cell_type": "code",
   "execution_count": 49,
   "metadata": {
    "colab": {
     "base_uri": "https://localhost:8080/"
    },
    "id": "fEh8DtuZKO9c",
    "outputId": "fcafce80-97b5-42b7-ac7c-75cf85450093"
   },
   "outputs": [
    {
     "name": "stdout",
     "output_type": "stream",
     "text": [
      "<class 'pandas.core.frame.DataFrame'>\n",
      "Int64Index: 15292 entries, 0 to 15292\n",
      "Data columns (total 2 columns):\n",
      " #   Column  Non-Null Count  Dtype \n",
      "---  ------  --------------  ----- \n",
      " 0   Body    15292 non-null  object\n",
      " 1   Label   15292 non-null  int64 \n",
      "dtypes: int64(1), object(1)\n",
      "memory usage: 358.4+ KB\n"
     ]
    }
   ],
   "source": [
    "df.dropna(inplace=True)\n",
    "df.info()"
   ]
  },
  {
   "cell_type": "markdown",
   "metadata": {
    "id": "IIFtYBgwKUSt"
   },
   "source": [
    "## Removing links from the dataset body column"
   ]
  },
  {
   "cell_type": "code",
   "execution_count": 50,
   "metadata": {
    "colab": {
     "base_uri": "https://localhost:8080/",
     "height": 70
    },
    "id": "1pXrQdOtK0ci",
    "outputId": "c58ffa06-2129-47e4-9cbe-465ab5e47ce4"
   },
   "outputs": [],
   "source": [
    "no_link = [re.sub(r'http\\S+', '', i) for i in df[\"Body\"]]\n",
    "no_link_test = [re.sub(r'http\\S+', '', i) for i in testing_data[\"Body\"]]"
   ]
  },
  {
   "cell_type": "markdown",
   "metadata": {
    "id": "EfhGpEaFK3xW"
   },
   "source": [
    "## Removing unncessary symbols from our body column "
   ]
  },
  {
   "cell_type": "code",
   "execution_count": 51,
   "metadata": {
    "colab": {
     "base_uri": "https://localhost:8080/",
     "height": 70
    },
    "id": "MhLqIaTHLDE5",
    "outputId": "7ecea52f-3eb1-494b-b226-b365c4632469"
   },
   "outputs": [],
   "source": [
    "clean = [re.sub('[^a-zA-Z0-9 ]', '', i) for i in no_link]\n",
    "clean_test = [re.sub('[^a-zA-Z0-9 ]', '', i) for i in no_link_test]"
   ]
  },
  {
   "cell_type": "markdown",
   "metadata": {
    "id": "h90ntS3aLFyd"
   },
   "source": [
    "## Changing all the text into lower case"
   ]
  },
  {
   "cell_type": "code",
   "execution_count": 52,
   "metadata": {
    "colab": {
     "base_uri": "https://localhost:8080/",
     "height": 70
    },
    "id": "7HhekpAHLRIa",
    "outputId": "ba8c709b-5099-460d-c164-9188ce0a9222"
   },
   "outputs": [],
   "source": [
    "lower = [i.lower() for i in clean]\n",
    "lower_test = [i.lower() for i in clean_test]"
   ]
  },
  {
   "cell_type": "markdown",
   "metadata": {
    "id": "Gs0wjmpfLStH"
   },
   "source": [
    "## Performing word Tokenization using NLTK library"
   ]
  },
  {
   "cell_type": "code",
   "execution_count": 53,
   "metadata": {
    "colab": {
     "base_uri": "https://localhost:8080/"
    },
    "id": "wF4RBrClLoA_",
    "outputId": "77f204d9-4d72-4283-9f4f-523b66c94aa1"
   },
   "outputs": [],
   "source": [
    "tokens = [nltk.word_tokenize(w) for w in lower]\n",
    "tokens_test = [nltk.word_tokenize(w) for w in lower_test]"
   ]
  },
  {
   "cell_type": "markdown",
   "metadata": {
    "id": "UtV4YTPiLrxO"
   },
   "source": [
    "## Using Lemmatization to remove different forms of the same words"
   ]
  },
  {
   "cell_type": "code",
   "execution_count": 54,
   "metadata": {
    "id": "zVXpc8OdMRgH"
   },
   "outputs": [],
   "source": [
    "from nltk.stem import WordNetLemmatizer\n",
    "lemma = WordNetLemmatizer()\n",
    "lemmatized = [[lemma.lemmatize(w) for w in text] for text in tokens]\n",
    "lemma_test = WordNetLemmatizer()\n",
    "lemmatized_test = [[lemma_test.lemmatize(w) for w in text] for text in tokens_test]"
   ]
  },
  {
   "cell_type": "markdown",
   "metadata": {
    "id": "om7EEw4GMav3"
   },
   "source": [
    "## Removing Stopwords from our data"
   ]
  },
  {
   "cell_type": "code",
   "execution_count": 55,
   "metadata": {
    "colab": {
     "base_uri": "https://localhost:8080/"
    },
    "id": "n8ka5QBQMz2W",
    "outputId": "ce72ef1f-db07-4f97-cf85-c3f603410aaa"
   },
   "outputs": [],
   "source": [
    "from nltk.corpus import stopwords\n",
    "without_stopwords = [[w for w in text if w not in stopwords.words('english')] for text in lemmatized]\n",
    "without_stopwords_test = [[w for w in text if w not in stopwords.words('english')] for text in lemmatized_test]"
   ]
  },
  {
   "cell_type": "markdown",
   "metadata": {
    "id": "3X3KxtbMM06-"
   },
   "source": [
    "## Vectorizing our data By bag of words method"
   ]
  },
  {
   "cell_type": "code",
   "execution_count": 56,
   "metadata": {
    "colab": {
     "base_uri": "https://localhost:8080/"
    },
    "id": "aj5ZmCSuNZXy",
    "outputId": "73d26ca1-fc7f-4bf9-a7e3-dd8745b5c009"
   },
   "outputs": [
    {
     "data": {
      "text/plain": [
       "array([[0, 0, 0, ..., 0, 0, 0],\n",
       "       [0, 0, 0, ..., 0, 0, 0],\n",
       "       [0, 0, 0, ..., 0, 0, 0],\n",
       "       ...,\n",
       "       [0, 0, 0, ..., 0, 0, 0],\n",
       "       [0, 0, 0, ..., 0, 0, 0],\n",
       "       [0, 0, 0, ..., 0, 0, 0]], dtype=int64)"
      ]
     },
     "execution_count": 56,
     "metadata": {},
     "output_type": "execute_result"
    }
   ],
   "source": [
    "vectorizer = CountVectorizer(max_features=20000)\n",
    "X = vectorizer.fit_transform([' '.join(text) for text in without_stopwords]).toarray()\n",
    "X"
   ]
  },
  {
   "cell_type": "code",
   "execution_count": 57,
   "metadata": {
    "colab": {
     "base_uri": "https://localhost:8080/"
    },
    "id": "NfXrchRgQF5x",
    "outputId": "a12640be-5694-45a7-c8f0-42261b826921"
   },
   "outputs": [
    {
     "data": {
      "text/plain": [
       "array([[0, 0, 0, ..., 0, 0, 0],\n",
       "       [0, 0, 0, ..., 0, 0, 0],\n",
       "       [0, 0, 0, ..., 0, 0, 0],\n",
       "       ...,\n",
       "       [0, 0, 0, ..., 0, 0, 0],\n",
       "       [0, 0, 0, ..., 0, 0, 0],\n",
       "       [0, 0, 0, ..., 0, 0, 0]], dtype=int64)"
      ]
     },
     "execution_count": 57,
     "metadata": {},
     "output_type": "execute_result"
    }
   ],
   "source": [
    "vectorizer_test = CountVectorizer(max_features=20000)\n",
    "TESTDATA = vectorizer_test.fit_transform([' '.join(text) for text in without_stopwords_test]).toarray()\n",
    "TESTDATA"
   ]
  },
  {
   "cell_type": "markdown",
   "metadata": {
    "id": "xrD66UZiNhqQ"
   },
   "source": [
    "## Splitting our data to train test split"
   ]
  },
  {
   "cell_type": "code",
   "execution_count": 62,
   "metadata": {
    "colab": {
     "base_uri": "https://localhost:8080/"
    },
    "id": "sz0r7CnnPuM0",
    "outputId": "90a09778-b515-4ba5-cd26-8f95c64a086d"
   },
   "outputs": [
    {
     "data": {
      "text/plain": [
       "(13762, 20000)"
      ]
     },
     "execution_count": 62,
     "metadata": {},
     "output_type": "execute_result"
    }
   ],
   "source": [
    "y = np.array(df['Label'])\n",
    "x_train,x_test,y_train,y_test = train_test_split(X,y,random_state=42,test_size=0.1)\n",
    "x_train.shape"
   ]
  },
  {
   "cell_type": "code",
   "execution_count": 65,
   "metadata": {
    "id": "_SraEQnCQv8z"
   },
   "outputs": [],
   "source": [
    "y_TESTDATA = np.array(testing_data['Label'])"
   ]
  },
  {
   "cell_type": "code",
   "execution_count": 71,
   "metadata": {
    "id": "bDVpoUu0P3AA"
   },
   "outputs": [],
   "source": [
    "# Put models in a dictionary\n",
    "models = {\"Multinomial NB model\": MultinomialNB(),          \n",
    "          \"Random Forest\": RandomForestClassifier(),\n",
    "          \"SVC\": SVC(),\n",
    "          \"Gaussian NB model\" : GaussianNB(),\n",
    "          \"LogisticRegression\": LogisticRegression(), \n",
    "          \"KNeighborsClassifier\":KNeighborsClassifier(),\n",
    "          \"DecisionTreeClassifier\":DecisionTreeClassifier()\n",
    "         }\n",
    "\n",
    "# Create function to fit and score models\n",
    "def fit_and_score(models, x_train, x_test, y_train, y_test, TESTDATA,y_TESTDATA):\n",
    "    # Random seed for reproducible results\n",
    "    np.random.seed(42)\n",
    "    # Make a list to keep model scores\n",
    "    model_scores_validation = {}\n",
    "    model_scores_test = {}\n",
    "    # Loop through models\n",
    "    for name, model in models.items():\n",
    "        # Fit the model to the data\n",
    "        model.fit(x_train, y_train)\n",
    "        # Evaluate the model and append its score to model_scores\n",
    "        model_scores_validation[name] = model.score(x_test, y_test) *100\n",
    "        model_scores_test[name] = model.score(TESTDATA, y_TESTDATA) *100\n",
    "        \n",
    "    return model_scores_validation,model_scores_test"
   ]
  },
  {
   "cell_type": "code",
   "execution_count": 72,
   "metadata": {
    "colab": {
     "base_uri": "https://localhost:8080/"
    },
    "id": "OMj7Ke4QP6SK",
    "outputId": "fbef37aa-2eee-4e8d-9885-d28378b5b9fa"
   },
   "outputs": [],
   "source": [
    "model_scores_validation,model_scores_test = fit_and_score(models,x_train,x_test,y_train,y_test,TESTDATA,y_TESTDATA)"
   ]
  },
  {
   "cell_type": "code",
   "execution_count": 74,
   "metadata": {},
   "outputs": [
    {
     "data": {
      "text/plain": [
       "{'Multinomial NB model': 47.511312217194565,\n",
       " 'Random Forest': 48.77828054298642,\n",
       " 'SVC': 51.49321266968325,\n",
       " 'Gaussian NB model': 55.38461538461539,\n",
       " 'LogisticRegression': 48.05429864253394,\n",
       " 'KNeighborsClassifier': 26.5158371040724,\n",
       " 'DecisionTreeClassifier': 28.687782805429862}"
      ]
     },
     "execution_count": 74,
     "metadata": {},
     "output_type": "execute_result"
    }
   ],
   "source": [
    "model_scores_test"
   ]
  },
  {
   "cell_type": "markdown",
   "metadata": {
    "id": "1IANopIaSyvW"
   },
   "source": [
    "## Compairing the models"
   ]
  },
  {
   "cell_type": "code",
   "execution_count": 75,
   "metadata": {
    "colab": {
     "base_uri": "https://localhost:8080/",
     "height": 369
    },
    "id": "KDqijjT_TBfA",
    "outputId": "59a20c27-f9af-4133-ccfa-14d31293812b"
   },
   "outputs": [
    {
     "data": {
      "text/plain": [
       "<Figure size 200x200 with 0 Axes>"
      ]
     },
     "metadata": {},
     "output_type": "display_data"
    },
    {
     "data": {
      "image/png": "[encoded data removed]",
      "text/plain": [
       "<Figure size 640x480 with 1 Axes>"
      ]
     },
     "metadata": {},
     "output_type": "display_data"
    }
   ],
   "source": [
    "plt.figure(figsize=(2,2))\n",
    "model_compare = pd.DataFrame(model_scores_test, index=['accuracy'])\n",
    "model_compare.T.plot.bar()\n",
    "plt.tick_params(labelsize=14)\n",
    "plt.show()"
   ]
  },
  {
   "cell_type": "markdown",
   "metadata": {},
   "source": [
    "## Using the best model for further trainning and tunning"
   ]
  },
  {
   "cell_type": "markdown",
   "metadata": {},
   "source": [
    "### Tuning a model with GridSearchCV"
   ]
  },
  {
   "cell_type": "markdown",
   "metadata": {},
   "source": [
    "GridSearchCV - tries every single combination of hyperparameters and saves the best."
   ]
  },
  {
   "cell_type": "code",
   "execution_count": 81,
   "metadata": {},
   "outputs": [
    {
     "name": "stdout",
     "output_type": "stream",
     "text": [
      "Fitting 5 folds for each of 1000 candidates, totalling 5000 fits\n"
     ]
    },
    {
     "data": {
      "text/html": [
       "<style>#sk-container-id-1 {color: black;background-color: white;}#sk-container-id-1 pre{padding: 0;}#sk-container-id-1 div.sk-toggleable {background-color: white;}#sk-container-id-1 label.sk-toggleable__label {cursor: pointer;display: block;width: 100%;margin-bottom: 0;padding: 0.3em;box-sizing: border-box;text-align: center;}#sk-container-id-1 label.sk-toggleable__label-arrow:before {content: \"▸\";float: left;margin-right: 0.25em;color: #696969;}#sk-container-id-1 label.sk-toggleable__label-arrow:hover:before {color: black;}#sk-container-id-1 div.sk-estimator:hover label.sk-toggleable__label-arrow:before {color: black;}#sk-container-id-1 div.sk-toggleable__content {max-height: 0;max-width: 0;overflow: hidden;text-align: left;background-color: #f0f8ff;}#sk-container-id-1 div.sk-toggleable__content pre {margin: 0.2em;color: black;border-radius: 0.25em;background-color: #f0f8ff;}#sk-container-id-1 input.sk-toggleable__control:checked~div.sk-toggleable__content {max-height: 200px;max-width: 100%;overflow: auto;}#sk-container-id-1 input.sk-toggleable__control:checked~label.sk-toggleable__label-arrow:before {content: \"▾\";}#sk-container-id-1 div.sk-estimator input.sk-toggleable__control:checked~label.sk-toggleable__label {background-color: #d4ebff;}#sk-container-id-1 div.sk-label input.sk-toggleable__control:checked~label.sk-toggleable__label {background-color: #d4ebff;}#sk-container-id-1 input.sk-hidden--visually {border: 0;clip: rect(1px 1px 1px 1px);clip: rect(1px, 1px, 1px, 1px);height: 1px;margin: -1px;overflow: hidden;padding: 0;position: absolute;width: 1px;}#sk-container-id-1 div.sk-estimator {font-family: monospace;background-color: #f0f8ff;border: 1px dotted black;border-radius: 0.25em;box-sizing: border-box;margin-bottom: 0.5em;}#sk-container-id-1 div.sk-estimator:hover {background-color: #d4ebff;}#sk-container-id-1 div.sk-parallel-item::after {content: \"\";width: 100%;border-bottom: 1px solid gray;flex-grow: 1;}#sk-container-id-1 div.sk-label:hover label.sk-toggleable__label {background-color: #d4ebff;}#sk-container-id-1 div.sk-serial::before {content: \"\";position: absolute;border-left: 1px solid gray;box-sizing: border-box;top: 0;bottom: 0;left: 50%;z-index: 0;}#sk-container-id-1 div.sk-serial {display: flex;flex-direction: column;align-items: center;background-color: white;padding-right: 0.2em;padding-left: 0.2em;position: relative;}#sk-container-id-1 div.sk-item {position: relative;z-index: 1;}#sk-container-id-1 div.sk-parallel {display: flex;align-items: stretch;justify-content: center;background-color: white;position: relative;}#sk-container-id-1 div.sk-item::before, #sk-container-id-1 div.sk-parallel-item::before {content: \"\";position: absolute;border-left: 1px solid gray;box-sizing: border-box;top: 0;bottom: 0;left: 50%;z-index: -1;}#sk-container-id-1 div.sk-parallel-item {display: flex;flex-direction: column;z-index: 1;position: relative;background-color: white;}#sk-container-id-1 div.sk-parallel-item:first-child::after {align-self: flex-end;width: 50%;}#sk-container-id-1 div.sk-parallel-item:last-child::after {align-self: flex-start;width: 50%;}#sk-container-id-1 div.sk-parallel-item:only-child::after {width: 0;}#sk-container-id-1 div.sk-dashed-wrapped {border: 1px dashed gray;margin: 0 0.4em 0.5em 0.4em;box-sizing: border-box;padding-bottom: 0.4em;background-color: white;}#sk-container-id-1 div.sk-label label {font-family: monospace;font-weight: bold;display: inline-block;line-height: 1.2em;}#sk-container-id-1 div.sk-label-container {text-align: center;}#sk-container-id-1 div.sk-container {/* jupyter's `normalize.less` sets `[hidden] { display: none; }` but bootstrap.min.css set `[hidden] { display: none !important; }` so we also need the `!important` here to be able to override the default hidden behavior on the sphinx rendered scikit-learn.org. See: https://github.com/scikit-learn/scikit-learn/issues/21755 */display: inline-block !important;position: relative;}#sk-container-id-1 div.sk-text-repr-fallback {display: none;}</style><div id=\"sk-container-id-1\" class=\"sk-top-container\"><div class=\"sk-text-repr-fallback\"><pre>GridSearchCV(cv=5, estimator=GaussianNB(),\n",
       "             param_grid={&#x27;var_smoothing&#x27;: array([1.00000000e+00, 9.79469667e-01, 9.59360829e-01, 9.39664831e-01,\n",
       "       9.20373200e-01, 9.01477631e-01, 8.82969996e-01, 8.64842328e-01,\n",
       "       8.47086827e-01, 8.29695852e-01, 8.12661920e-01, 7.95977700e-01,\n",
       "       7.79636013e-01, 7.63629826e-01, 7.47952252e-01, 7.32596543e-01,\n",
       "       7.17556092e-01, 7.02824426e-01, 6.88...\n",
       "       1.61141428e-09, 1.57833141e-09, 1.54592774e-09, 1.51418933e-09,\n",
       "       1.48310251e-09, 1.45265393e-09, 1.42283046e-09, 1.39361927e-09,\n",
       "       1.36500781e-09, 1.33698374e-09, 1.30953502e-09, 1.28264983e-09,\n",
       "       1.25631660e-09, 1.23052400e-09, 1.20526094e-09, 1.18051653e-09,\n",
       "       1.15628013e-09, 1.13254132e-09, 1.10928986e-09, 1.08651577e-09,\n",
       "       1.06420924e-09, 1.04236067e-09, 1.02096066e-09, 1.00000000e-09])},\n",
       "             scoring=&#x27;accuracy&#x27;, verbose=1)</pre><b>In a Jupyter environment, please rerun this cell to show the HTML representation or trust the notebook. <br />On GitHub, the HTML representation is unable to render, please try loading this page with nbviewer.org.</b></div><div class=\"sk-container\" hidden><div class=\"sk-item sk-dashed-wrapped\"><div class=\"sk-label-container\"><div class=\"sk-label sk-toggleable\"><input class=\"sk-toggleable__control sk-hidden--visually\" id=\"sk-estimator-id-1\" type=\"checkbox\" ><label for=\"sk-estimator-id-1\" class=\"sk-toggleable__label sk-toggleable__label-arrow\">GridSearchCV</label><div class=\"sk-toggleable__content\"><pre>GridSearchCV(cv=5, estimator=GaussianNB(),\n",
       "             param_grid={&#x27;var_smoothing&#x27;: array([1.00000000e+00, 9.79469667e-01, 9.59360829e-01, 9.39664831e-01,\n",
       "       9.20373200e-01, 9.01477631e-01, 8.82969996e-01, 8.64842328e-01,\n",
       "       8.47086827e-01, 8.29695852e-01, 8.12661920e-01, 7.95977700e-01,\n",
       "       7.79636013e-01, 7.63629826e-01, 7.47952252e-01, 7.32596543e-01,\n",
       "       7.17556092e-01, 7.02824426e-01, 6.88...\n",
       "       1.61141428e-09, 1.57833141e-09, 1.54592774e-09, 1.51418933e-09,\n",
       "       1.48310251e-09, 1.45265393e-09, 1.42283046e-09, 1.39361927e-09,\n",
       "       1.36500781e-09, 1.33698374e-09, 1.30953502e-09, 1.28264983e-09,\n",
       "       1.25631660e-09, 1.23052400e-09, 1.20526094e-09, 1.18051653e-09,\n",
       "       1.15628013e-09, 1.13254132e-09, 1.10928986e-09, 1.08651577e-09,\n",
       "       1.06420924e-09, 1.04236067e-09, 1.02096066e-09, 1.00000000e-09])},\n",
       "             scoring=&#x27;accuracy&#x27;, verbose=1)</pre></div></div></div><div class=\"sk-parallel\"><div class=\"sk-parallel-item\"><div class=\"sk-item\"><div class=\"sk-label-container\"><div class=\"sk-label sk-toggleable\"><input class=\"sk-toggleable__control sk-hidden--visually\" id=\"sk-estimator-id-2\" type=\"checkbox\" ><label for=\"sk-estimator-id-2\" class=\"sk-toggleable__label sk-toggleable__label-arrow\">estimator: GaussianNB</label><div class=\"sk-toggleable__content\"><pre>GaussianNB()</pre></div></div></div><div class=\"sk-serial\"><div class=\"sk-item\"><div class=\"sk-estimator sk-toggleable\"><input class=\"sk-toggleable__control sk-hidden--visually\" id=\"sk-estimator-id-3\" type=\"checkbox\" ><label for=\"sk-estimator-id-3\" class=\"sk-toggleable__label sk-toggleable__label-arrow\">GaussianNB</label><div class=\"sk-toggleable__content\"><pre>GaussianNB()</pre></div></div></div></div></div></div></div></div></div></div>"
      ],
      "text/plain": [
       "GridSearchCV(cv=5, estimator=GaussianNB(),\n",
       "             param_grid={'var_smoothing': array([1.00000000e+00, 9.79469667e-01, 9.59360829e-01, 9.39664831e-01,\n",
       "       9.20373200e-01, 9.01477631e-01, 8.82969996e-01, 8.64842328e-01,\n",
       "       8.47086827e-01, 8.29695852e-01, 8.12661920e-01, 7.95977700e-01,\n",
       "       7.79636013e-01, 7.63629826e-01, 7.47952252e-01, 7.32596543e-01,\n",
       "       7.17556092e-01, 7.02824426e-01, 6.88...\n",
       "       1.61141428e-09, 1.57833141e-09, 1.54592774e-09, 1.51418933e-09,\n",
       "       1.48310251e-09, 1.45265393e-09, 1.42283046e-09, 1.39361927e-09,\n",
       "       1.36500781e-09, 1.33698374e-09, 1.30953502e-09, 1.28264983e-09,\n",
       "       1.25631660e-09, 1.23052400e-09, 1.20526094e-09, 1.18051653e-09,\n",
       "       1.15628013e-09, 1.13254132e-09, 1.10928986e-09, 1.08651577e-09,\n",
       "       1.06420924e-09, 1.04236067e-09, 1.02096066e-09, 1.00000000e-09])},\n",
       "             scoring='accuracy', verbose=1)"
      ]
     },
     "execution_count": 81,
     "metadata": {},
     "output_type": "execute_result"
    }
   ],
   "source": [
    "from sklearn.model_selection import GridSearchCV\n",
    "\n",
    "nb_classifier = GaussianNB()\n",
    "\n",
    "params_NB = {'var_smoothing': np.logspace(0,-9, num=1000)}\n",
    "gs_NB = GridSearchCV(estimator=nb_classifier, \n",
    "                 param_grid=params_NB, \n",
    "                 cv=5,   \n",
    "                 verbose=1, \n",
    "                 scoring='accuracy') \n",
    "gs_NB.fit(x_train, y_train)"
   ]
  },
  {
   "cell_type": "code",
   "execution_count": 82,
   "metadata": {},
   "outputs": [
    {
     "data": {
      "text/plain": [
       "{'var_smoothing': 5.479472336900293e-07}"
      ]
     },
     "execution_count": 82,
     "metadata": {},
     "output_type": "execute_result"
    }
   ],
   "source": [
    "# PRINTING OUT THE BEST PARAMETERS\n",
    "gs_NB.best_params_"
   ]
  },
  {
   "cell_type": "code",
   "execution_count": 85,
   "metadata": {
    "colab": {
     "base_uri": "https://localhost:8080/",
     "height": 218
    },
    "id": "l0ap_f3OTJVs",
    "outputId": "4c1f6c40-2474-4f39-e56a-2dd88dae3d92"
   },
   "outputs": [
    {
     "name": "stdout",
     "output_type": "stream",
     "text": [
      "Our Best Model Score on the Validation Data :  90.07 % \n"
     ]
    }
   ],
   "source": [
    "model = GaussianNB(var_smoothing = 5.479472336900293e-07)\n",
    "model.fit(x_train,y_train)\n",
    "score = model.score(x_test,y_test)\n",
    "print(f\"Our Best Model Score on the Validation Data : {score*100: .2f} % \")"
   ]
  },
  {
   "cell_type": "code",
   "execution_count": 95,
   "metadata": {
    "id": "Uw_MvLKjIhmw"
   },
   "outputs": [],
   "source": [
    "y_preds = model.predict(x_test)"
   ]
  },
  {
   "cell_type": "code",
   "execution_count": 96,
   "metadata": {
    "id": "2UEaGWI9Iiq7"
   },
   "outputs": [
    {
     "data": {
      "image/png": "[encoded data removed]",
      "text/plain": [
       "<Figure size 640x480 with 1 Axes>"
      ]
     },
     "metadata": {},
     "output_type": "display_data"
    }
   ],
   "source": [
    "# Import ROC curve function from metrics module\n",
    "from sklearn.metrics import RocCurveDisplay\n",
    "\n",
    "# Plot ROC curve and calculate AUC metric\n",
    "RocCurveDisplay.from_estimator(model,x_test,y_test)\n",
    "plt.tick_params(labelsize=14)\n",
    "\n",
    "plt.show()"
   ]
  },
  {
   "cell_type": "code",
   "execution_count": 97,
   "metadata": {
    "id": "4Muga9D-Ilx1"
   },
   "outputs": [
    {
     "data": {
      "image/png": "[encoded data removed]",
      "text/plain": [
       "<Figure size 500x500 with 1 Axes>"
      ]
     },
     "metadata": {},
     "output_type": "display_data"
    }
   ],
   "source": [
    "from sklearn.metrics import confusion_matrix\n",
    "plt.figure(figsize=(5,5))\n",
    "sns.heatmap(confusion_matrix(y_test, y_preds),\n",
    "                     annot=True, # Annotate the boxes\n",
    "                     cbar=False)\n",
    "plt.xlabel(\"true label\")\n",
    "plt.ylabel(\"predicted label\")\n",
    "\n",
    "sns.set(font_scale=1.5)\n",
    "plt.show()"
   ]
  },
  {
   "cell_type": "code",
   "execution_count": 98,
   "metadata": {
    "id": "0QV-0x_cInlc"
   },
   "outputs": [
    {
     "name": "stdout",
     "output_type": "stream",
     "text": [
      "              precision    recall  f1-score   support\n",
      "\n",
      "           0       0.95      0.86      0.90       838\n",
      "           1       0.85      0.95      0.90       692\n",
      "\n",
      "    accuracy                           0.90      1530\n",
      "   macro avg       0.90      0.90      0.90      1530\n",
      "weighted avg       0.91      0.90      0.90      1530\n",
      "\n"
     ]
    }
   ],
   "source": [
    "from sklearn.metrics import classification_report\n",
    "# Show classification report\n",
    "print(classification_report(y_test, y_preds))"
   ]
  },
  {
   "cell_type": "code",
   "execution_count": 99,
   "metadata": {
    "id": "D1gKghv_Iwgu"
   },
   "outputs": [
    {
     "data": {
      "text/plain": [
       "['spam_classifier_with_NLTK.joblib']"
      ]
     },
     "execution_count": 99,
     "metadata": {},
     "output_type": "execute_result"
    }
   ],
   "source": [
    "from joblib import dump,load\n",
    "dump(model, filename= 'spam_classifier_with_NLTK.joblib')"
   ]
  },
  {
   "cell_type": "code",
   "execution_count": 100,
   "metadata": {
    "id": "6Apea8RiIy0f"
   },
   "outputs": [],
   "source": [
    "loadmodel = load('spam_classifier_with_NLTK.joblib')"
   ]
  },
  {
   "cell_type": "code",
   "execution_count": 128,
   "metadata": {},
   "outputs": [
    {
     "data": {
      "text/plain": [
       "array([1], dtype=int64)"
      ]
     },
     "execution_count": 128,
     "metadata": {},
     "output_type": "execute_result"
    }
   ],
   "source": [
    "loadmodel.predict(x_test[0].reshape(1,-1))"
   ]
  },
  {
   "cell_type": "markdown",
   "metadata": {},
   "source": [
    "## Predicting one value using our model"
   ]
  },
  {
   "cell_type": "code",
   "execution_count": 315,
   "metadata": {},
   "outputs": [],
   "source": [
    "#importing necessary libraries\n",
    "import numpy as np \n",
    "import pandas as pd \n",
    "import re\n",
    "import nltk\n",
    "nltk.download('punkt');\n",
    "nltk.download('wordnet');\n",
    "nltk.download('omw-1.4');\n",
    "nltk.download('stopwords');\n",
    "from sklearn.feature_extraction.text import CountVectorizer\n",
    "from nltk.stem import WordNetLemmatizer\n",
    "from nltk.corpus import stopwords\n",
    "from joblib import load\n",
    "from IPython.display import clear_output\n",
    "\n",
    "clear_output()\n",
    "def predict_email(email_input):\n",
    "    no_link = [re.sub(r'http\\S+', '', i) for i in email_input[\"Body\"]]\n",
    "    clean = [re.sub('[^a-zA-Z0-9 ]', '', i) for i in no_link]\n",
    "    lower = [i.lower() for i in clean]\n",
    "    tokens = [nltk.word_tokenize(w) for w in lower]\n",
    "    lemma = WordNetLemmatizer()\n",
    "    lemmatized = [[lemma.lemmatize(w) for w in text] for text in tokens]\n",
    "    without_stopwords = [[w for w in text if w not in stopwords.words('english')] for text in lemmatized]\n",
    "    vectorizer = CountVectorizer(max_features=20000)\n",
    "    X = vectorizer.fit_transform([' '.join(text) for text in without_stopwords]).toarray()\n",
    "    X = np.pad(X, ((0, 0), (0,  20000 - X.shape[1])))\n",
    "    loadmodel = load('spam_classifier_with_NLTK.joblib')    \n",
    "    if(loadmodel.predict(X) == 0):\n",
    "        print(\"Email is not spam\")\n",
    "        print(loadmodel.predict(X))\n",
    "    else:\n",
    "        print(\"Email is spam !!!\")\n",
    "        print(loadmodel.predict(X))\n",
    "        \n",
    "def check_email():\n",
    "    '''This function is used to predict whether an email is spam or not using the email_spam classifier model.\n",
    "        it doesnt take in a parameter but a input prompt is shown\n",
    "        Just simply pass in the body of the email and you will get a prediciton of whether email classifies as spam or not\n",
    "    '''\n",
    "    data = input(\"Enter body of the email: \")\n",
    "    clear_output(wait = True)\n",
    "    email_input = pd.DataFrame([data], columns=['Body'])\n",
    "    prediction = predict_email(email_input)\n",
    "    \n",
    "def check_email_variable(data):\n",
    "    '''This function is used to predict whether an email is spam or not using the email_spam classifier model.\n",
    "        It only takes in one parameter by passing it into it :\n",
    "        Body.\n",
    "        Just simply pass in the body of the email and you will get a prediciton of whether email classifies as spam or not\n",
    "    '''\n",
    "    email_input = pd.DataFrame([data], columns=['Body'])\n",
    "    prediction = predict_email(email_input)"
   ]
  },
  {
   "cell_type": "code",
   "execution_count": 316,
   "metadata": {},
   "outputs": [],
   "source": [
    "# We have below two emails to test out\n",
    "\n",
    "email1 = \"\"\"'Subject: ijcai95 workshop on context in nlp\\n \\n call for papers ijcai-95 workshop on context in natural language processing august 19 , 20 , or 21 , 1995 montreal , canada correct interpretation of natural language utterances and texts requires linguistic and non-linguistic context . the goal of this workshop is to investigate the nature of context in natural language , its role in natural language processing , and shed some light on this largely unexplored area of great theoretical and practical importance . dialogue and text processing are two application domains where the lack of good theories of context impedes significant progress in applying and developing new technologies . as speech technology matures , it becomes technically feasible to build dialogue systems . however , understanding dialogues , and especially multimodal dialogues , is not possible without some account of the role of context . similarly , with today \\'s text processing technology it is feasible to automatically create knowledge bases from fairly unconstrained texts such as newspaper archives . ignoring context in such texts , however , results in knowledge bases that are not only very incomplete , but also dramatically different from knowledge bases created by humans , based on the same texts . we invite papers from researchers active in the fields of natural language processing , knowledge representation , and other related areas addressing theoretical aspects of context and their implications for designing practical nlp systems . we are interested in reports on implemented nlp systems utilizing contextual information . we are also interested in knowledge representation systems , inference methods , and algorithms that would allow one to computationally handle specific aspects of context . agenda : our workshop will provide answers and insights into how to go about answering a number of questions , including the following : i : role of context in natural language what is context ? what is \" context of the previous utterance / sentence \" \" context of the dialog-so - far / text-so - far \" and what is the relationship between them ? how many different contexts are there ? what makes two contexts different ? what is the relationship between formalization of context and natural language ideas of context ? what is the status of context in a formal representation aiming at truthfully capturing all the characteristics of natural language ? is context an inherent characteristic of natural language that ultimately decides the formal power of natural language ? is natural language minus context a less powerful formal language ? does representing context and truthfully capturing characteristics of natural language require new knowledge representation or automated reasoning systems ? what is the relationship between context , and the semantics and pragmatics of natural language ? is context different from possible worlds and situations ? what is the relationship between domain ontologies and contexts ? ii : context-dependent interpretation of natural language in which way does context affect interpretation of natural language utterances and texts ? which aspects of context or which contexts result in refined , more general , and different interpretations of natural language ? which aspects of context are explicit and which are implicit in natural language utterances and texts ? which phenomena and inferences observed in natural language are context-independent and which ones always depend on context ? iii : computability does handling context increase or decrease computational complexity of natural language processing ? how to automatically identify context-provided constraints resulting in conveying and understanding additional or different aspects of information ? how to represent those extra constraints provided by context and how to automatically compute context-dependent interpretation of natural language ? should the final interpretation of natural language be decontextualized when stored in a knowledge base ? how can information obtained in one context be utilized in another , possibly unanticipated context ? workshop format : we will hold four sessions : i : role of context in natural language ii : context - dependent interpretation of natural language iii : computability iv : general discussion sessions i , ii , and iii will be mildly structured : first , the committee will present a brief overview of possible answers to the specific questions included in the agenda , and discuss their own answers . this presentation will be mixed with questions from the participants . second , the participants whose papers were accepted will briefly comment on their own answers to these questions . these presentations will also be mixed with questions from the participants . session iv , a general discussion , will give each participant a chance to make a statement about any context-related issue , make a comment , raise a question , argue for or against some answers etc . pre-worshop activities : a pre-workshop mailing list will be established ; please , indicate whether you want to be included ; in order to facilitate interaction and focus the discussion , two months before the workshop , we will provide all the participants with specific examples and data illustrating various aspects of context . authors + titles + abstracts of the accepted papers , but not the papers themselves , will be available on-line to everybody . the papers will only be available to the workshop participants . we hope that this will encourage people to make strong claims even if the support for them is not quite there , report on partial , ongoing , promising research , be frank in evaluating existing approaches and their own accomplishments , openly comment on limitations , in short , say all those ( very ) informative things that are sometimes difficult , if not impossible , to communicate in \" official \" publications . shared data , references , papers and the mailing list are to allow the participants to : - sort out as many as possible things before the workshop - help focusing the workshop discussion on the hardest and most controversial issues - raise objections and bring up controversial claims early on in order to prepare well thought of answers and constructive critique participants : a limited number , 30 or so , active participants will be selected on the basis of submitted papers . a small number , 5 or so , of no-paper - attendance-only participants will also be considered ; such persons should submit a one page research summary and a list of relevant publications . attendees are required to register for the main ijcai-95 conference . schedule / deadlines : very soon mosaic home page for the workshop set 3 . 15 . 95 papers received 4 . 03 . 95 selected papers accepted participants chosen 4 . 05 . 95 acceptance notifications sent to authors sent to ijcai selected papers to be included in the working notes list of confirmed participants request for equipment / room 4 . 15 . 95 mosaic home page for the workshop updated e-mail discussion begins 5 . 01 . 95 distributed to the participants final list of specific issues to be discussed at the workshop references to the existing work on context examples and data illustrating various aspects of context 7 . 15 . 95 final list of participants sent to ijcai 8 . 19 . 95 workshop takes place 12 . 01 . 95 written review of the workshop ready paper format : same as ijcai-95 : 12 pt article latex style 15 pages maximum , including title , abstract , figures , and references the first page must include : title author \\'s name ( s ) affiliation complete mailing address e-mail address phone / fax number ( s ) abstract of 200 or so words keywords submissions : electronic submissions are strongly preferred : direct : anonymous ftp to ftp . cs . wayne . edu ~ pub / context directory place the postscript or ascii version of your paper , your author + title + abstract ascii file , your references ( bibtex format preferred ) file , and a file with sample data and / or specific examples please , name your files with the name of the first author . for example , john block might place there the following : block . ps a . ps version of his paper block . text an ascii version of his paper if . ps not possible block-a . text an ascii file with authors names , title , and abstract block-r . bbl a bibliography file with references block-e . text an ascii file with sample data and / or specific examples email : lucja @ cs . wayne . edu as the last resort , four hard copies of the paper can be snail mailed to lucja iwanska department of computer science wayne state university detroit , mi 48202 , usa ( 313 ) 577-1667 ( phone ) ( 313 ) 577-2478 ( secretary ) ( 313 ) 577-6868 ( fax ) info about the workshop and the abstracts of the accepted papers is available via a mosaic home page at http : / / www . cs . wayne . edu / context primary contact : should you have any questions or need additional information , please contact lucja iwanska department of computer science wayne state university detroit , mi 48202 lucja @ cs . wayne . edu ( 313 ) 577-1667 ( phone ) ( 313 ) 577-2478 ( secretary ) ( 313 ) 577-6868 ( fax ) program committee : harry c . bunt , kub - university ( netherlands ) keith devlin , saint mary \\'s college ( usa ) r . v . guha , microelectronics and computer technology corporation ( usa ) lucja iwanska , wayne state university ( usa ) karen jensen , microsoft corporation ( usa ) john mccarthy , stanford university ( usa ) john f . sowa , suny at binghampton ( usa ) wlodek zadrozny , ibm tj watson research center ( usa )\\n'\"\"\"\n",
    "email2 = \"\"\"'Subject: your free info .\\n \\n dear nlpeople , - - - - - - - - - - - - - - - - - - - - - - - - - - - - - - - - - - - - - - - - - - - - - - - - - - - - - - - - - - - - - - - - - - - - - - - - - - - - - - - - - - - - - - - - - - - - - - - - - - - - - - - - - - - - - - - - - - - - - - - - - - - - - - - we were recently given your email address as someone who may be interested in exciting new opportunities . if this is an error , and you are no longer interested , please hit reply , and type remove in the subject line , and you will be removed immediately from our database . - - - - - - - - - - - - - - - - - - - - - - - - - - - - - - - - - - - - - - - - - - - - - - - - - - - - - - - - - - - - - - - - - - - - - - - - - - - - - - - - - - - - - - - - - - - - - - - - - - - - - - - - - - - - - - - - - - - - - - - - - - - - - - - please , please do yourself the biggest favor of your life and keep this letter until you have the time to read it carefully . you already took the time to go through your mail to decide what to keep ( and what to throw away ) , and this just may be what you \\' ve been looking for all your life . do n\\'t risk losing what could be your best chance at real security and happiness by assuming anything at this point . please read this entire letter very carefully before you make any rash judgments . we promise that you \\' ll thank us for it later ! how \\' s life been treating you ? * do you have enough money in the bank to support yourself and your family for a year ( or more ) if you were to lose your job ? * could you survive a major unexpected expense without going deeper in debt or filing bankruptcy ? * can you afford a nice vacation every year without floating a loan ? * do you have a realistic and affordable way to earn a second cash income in excess of $ 200 , 000 per year ? if you would like to answer yes to any or all of these questions , then you need respond with the subject \" big money \" , because we \\' re going to give you a large dose of genuine honesty and explain how you can easily and substantially improve your financial outlook . thank you and god bless opportunity shop online\\n'\"\"\"\n"
   ]
  },
  {
   "cell_type": "markdown",
   "metadata": {},
   "source": [
    "##### Email 1 test"
   ]
  },
  {
   "cell_type": "code",
   "execution_count": 317,
   "metadata": {
    "scrolled": true
   },
   "outputs": [
    {
     "name": "stdout",
     "output_type": "stream",
     "text": [
      "Email is spam !!!\n",
      "[1]\n"
     ]
    }
   ],
   "source": [
    "check_email_variable(email1)"
   ]
  },
  {
   "cell_type": "markdown",
   "metadata": {},
   "source": [
    "##### Email 2 test"
   ]
  },
  {
   "cell_type": "code",
   "execution_count": 318,
   "metadata": {
    "scrolled": true
   },
   "outputs": [
    {
     "name": "stdout",
     "output_type": "stream",
     "text": [
      "Email is not spam\n",
      "[0]\n"
     ]
    }
   ],
   "source": [
    "check_email_variable(email2)"
   ]
  },
  {
   "cell_type": "markdown",
   "metadata": {},
   "source": [
    "##### Testing email using input prompt"
   ]
  },
  {
   "cell_type": "code",
   "execution_count": 319,
   "metadata": {},
   "outputs": [
    {
     "name": "stdout",
     "output_type": "stream",
     "text": [
      "Email is not spam\n",
      "[0]\n"
     ]
    }
   ],
   "source": [
    "# This email was passed\n",
    "'''\n",
    "'Subject: MANAGE YOUR BLOOD PRESSURE + MELT AWAY EXCESS POUNDS FAST/n/n*Regulates Blood Pressure\\n*Balances Blood Sugar Levels\\n*Lowers Bad Cholestoral\\n\\n ORDER YOURS NOW!'\n",
    "'''\n",
    "check_email()"
   ]
  },
  {
   "cell_type": "code",
   "execution_count": 320,
   "metadata": {},
   "outputs": [
    {
     "name": "stdout",
     "output_type": "stream",
     "text": [
      "Email is spam !!!\n",
      "[1]\n"
     ]
    }
   ],
   "source": [
    "# This email was passed\n",
    "'''\n",
    "'Subject: RE: Python lesson \\n\\nKeith  Just a follow up. I would be grateful if you find out how much it would cost to learn to speak python as I have recently brought a pet snake.   Regards  Jake\n",
    "'''\n",
    "check_email()"
   ]
  }
 ],
 "metadata": {
  "accelerator": "GPU",
  "colab": {
   "collapsed_sections": [],
   "provenance": []
  },
  "kernelspec": {
   "display_name": "Python 3 (ipykernel)",
   "language": "python",
   "name": "python3"
  },
  "language_info": {
   "codemirror_mode": {
    "name": "ipython",
    "version": 3
   },
   "file_extension": ".py",
   "mimetype": "text/x-python",
   "name": "python",
   "nbconvert_exporter": "python",
   "pygments_lexer": "ipython3",
   "version": "3.10.4"
  }
 },
 "nbformat": 4,
 "nbformat_minor": 1
}
